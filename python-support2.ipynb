{
  "nbformat": 4,
  "nbformat_minor": 0,
  "metadata": {
    "colab": {
      "provenance": [],
      "authorship_tag": "ABX9TyM4Dbdiv9mjh1vJIbI2Cueg",
      "include_colab_link": true
    },
    "kernelspec": {
      "name": "python3",
      "display_name": "Python 3"
    },
    "language_info": {
      "name": "python"
    }
  },
  "cells": [
    {
      "cell_type": "markdown",
      "metadata": {
        "id": "view-in-github",
        "colab_type": "text"
      },
      "source": [
        "<a href=\"https://colab.research.google.com/github/karin-kaito/gemini-support/blob/main/python-support2.ipynb\" target=\"_parent\"><img src=\"https://colab.research.google.com/assets/colab-badge.svg\" alt=\"Open In Colab\"/></a>"
      ]
    },
    {
      "cell_type": "code",
      "execution_count": null,
      "metadata": {
        "id": "o56SHOb6ns83"
      },
      "outputs": [],
      "source": []
    },
    {
      "cell_type": "markdown",
      "source": [
        "# 以下プロンプトでgeminiが生成\n",
        "## 以下の要件に従い、Pythonを学習するためのコードを書いてください。\n",
        "【要件】\n",
        "・ 基礎から丁寧に解説する\n",
        "・適宜コメントを挿入し、コードを解説する。"
      ],
      "metadata": {
        "id": "lccr8bpBpCfj"
      }
    },
    {
      "source": [
        "# Pythonの基本的なデータ型\n",
        "\n",
        "# 整数型（int）\n",
        "num1 = 10  # num1という変数に整数10を代入\n",
        "num2 = -5  # num2という変数に整数-5を代入\n",
        "\n",
        "# 浮動小数点型（float）\n",
        "pi = 3.14159  # piという変数に浮動小数点数3.14159を代入\n",
        "\n",
        "# 文字列型（str）\n",
        "name = \"Taro\"  # nameという変数に文字列\"Taro\"を代入\n",
        "message = 'Hello, world!'  # messageという変数に文字列'Hello, world!'を代入\n",
        "\n",
        "# ブール型（bool）\n",
        "is_true = True  # is_trueという変数に真(True)を代入\n",
        "is_false = False  # is_falseという変数に偽(False)を代入\n",
        "\n",
        "\n",
        "# 演算子\n",
        "\n",
        "# 四則演算\n",
        "result1 = num1 + num2  # 加算\n",
        "result2 = num1 - num2  # 減算\n",
        "result3 = num1 * num2  # 乗算\n",
        "result4 = num1 / num2  # 除算\n",
        "\n",
        "# 文字列の連結\n",
        "full_name = name + \" Yamada\"  # nameと\" Yamada\"を連結してfull_nameに代入\n",
        "\n",
        "\n",
        "# 制御構文\n",
        "\n",
        "# if文\n",
        "if num1 > 0:  # num1が0より大きい場合\n",
        "    print(\"num1は正の数です\")  # \"num1は正の数です\"と出力\n",
        "else:  # それ以外の場合\n",
        "    print(\"num1は正の数ではありません\")  # \"num1は正の数ではありません\"と出力\n",
        "\n",
        "# for文\n",
        "for i in range(5):  # 0から4までの整数をiに代入して繰り返し\n",
        "    print(i)  # iの値を出力\n",
        "\n",
        "\n",
        "# 関数\n",
        "\n",
        "def add(x, y):  # addという名前の関数を定義。xとyを引数として受け取る\n",
        "    \"\"\"\n",
        "    2つの数値を加算する関数\n",
        "\n",
        "    Args:\n",
        "        x (int or float): 加算する数値1\n",
        "        y (int or float): 加算する数値2\n",
        "\n",
        "    Returns:\n",
        "        int or float: 加算結果\n",
        "    \"\"\"\n",
        "    return x + y  # xとyを加算した結果を返す\n",
        "\n",
        "result5 = add(num1, num2)  # add関数を呼び出し、結果をresult5に代入"
      ],
      "cell_type": "code",
      "metadata": {
        "colab": {
          "base_uri": "https://localhost:8080/"
        },
        "id": "DwP2SuInooJ4",
        "outputId": "4c4cfeaa-c302-4ac8-fab4-f27ab6300fd5"
      },
      "execution_count": 1,
      "outputs": [
        {
          "output_type": "stream",
          "name": "stdout",
          "text": [
            "num1は正の数です\n",
            "0\n",
            "1\n",
            "2\n",
            "3\n",
            "4\n"
          ]
        }
      ]
    },
    {
      "source": [
        "# リスト\n",
        "fruits = [\"apple\", \"banana\", \"orange\"]  # fruitsというリストを作成\n",
        "print(fruits[0])  # リストの最初の要素(\"apple\")を出力\n",
        "fruits.append(\"grape\")  # リストに\"grape\"を追加\n",
        "print(fruits)  # リストの内容を出力\n",
        "\n",
        "# 辞書\n",
        "person = {\"name\": \"Taro\", \"age\": 30, \"city\": \"Tokyo\"}  # personという辞書を作成\n",
        "print(person[\"name\"])  # \"name\"キーに対応する値(\"Taro\")を出力\n",
        "person[\"job\"] = \"Engineer\"  # \"job\"キーと値\"Engineer\"を追加\n",
        "print(person)  # 辞書の内容を出力\n",
        "\n",
        "# クラス\n",
        "class Dog:\n",
        "    def __init__(self, name, breed):  # コンストラクタ\n",
        "        self.name = name  # name属性を初期化\n",
        "        self.breed = breed  # breed属性を初期化\n",
        "\n",
        "    def bark(self):  # barkメソッド\n",
        "        print(\"Woof!\")\n",
        "\n",
        "my_dog = Dog(\"Pochi\", \"Shiba Inu\")  # Dogクラスのインスタンスを作成\n",
        "print(my_dog.name)  # name属性の値(\"Pochi\")を出力\n",
        "my_dog.bark()  # barkメソッドを呼び出し"
      ],
      "cell_type": "code",
      "metadata": {
        "colab": {
          "base_uri": "https://localhost:8080/"
        },
        "id": "g0gFQPwho408",
        "outputId": "f622879b-9a1a-4fe9-d52b-ac39c81578aa"
      },
      "execution_count": 2,
      "outputs": [
        {
          "output_type": "stream",
          "name": "stdout",
          "text": [
            "apple\n",
            "['apple', 'banana', 'orange', 'grape']\n",
            "Taro\n",
            "{'name': 'Taro', 'age': 30, 'city': 'Tokyo', 'job': 'Engineer'}\n",
            "Pochi\n",
            "Woof!\n"
          ]
        }
      ]
    },
    {
      "cell_type": "code",
      "source": [],
      "metadata": {
        "id": "6bOE5661o6k9"
      },
      "execution_count": null,
      "outputs": []
    },
    {
      "cell_type": "markdown",
      "source": [],
      "metadata": {
        "id": "dJkMho3to9j3"
      }
    }
  ]
}